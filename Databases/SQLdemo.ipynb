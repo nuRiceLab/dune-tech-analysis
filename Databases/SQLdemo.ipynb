{
 "cells": [
  {
   "cell_type": "markdown",
   "id": "10d641a3-8194-465d-a75a-f1c204901267",
   "metadata": {},
   "source": [
    "# SQL demo"
   ]
  },
  {
   "cell_type": "markdown",
   "id": "585d1f0c-4504-4325-b993-5254619e0644",
   "metadata": {},
   "source": [
    "## Creating a Database\n",
    "Load the jupyter xql extension. If its not already install on terminal: \n",
    "```\n",
    "pip install ipython-sql\n",
    "```"
   ]
  },
  {
   "cell_type": "code",
   "execution_count": 3,
   "id": "02b68685-dd79-452f-924e-68eddd0063d5",
   "metadata": {},
   "outputs": [
    {
     "name": "stdout",
     "output_type": "stream",
     "text": [
      "The sql extension is already loaded. To reload it, use:\n",
      "  %reload_ext sql\n"
     ]
    }
   ],
   "source": [
    "%load_ext sql\n"
   ]
  },
  {
   "cell_type": "code",
   "execution_count": 4,
   "id": "cf3cfe84-9c44-4e82-adbf-27406d33d6a1",
   "metadata": {},
   "outputs": [],
   "source": [
    "%config SqlMagic.style = '_DEPRECATED_DEFAULT'"
   ]
  },
  {
   "cell_type": "markdown",
   "id": "f3976c9f-630e-4eb7-8777-d637881357c5",
   "metadata": {},
   "source": [
    "Connect to an in-memory SQLite database. It is also possible to create a file db, but for a tutorial, where we don't want to save the information, a in-memory db is a good idea."
   ]
  },
  {
   "cell_type": "code",
   "execution_count": 6,
   "id": "7ccdd1f0-a9b8-4e42-ae25-c506c616dd25",
   "metadata": {},
   "outputs": [],
   "source": [
    "%sql sqlite://"
   ]
  },
  {
   "cell_type": "markdown",
   "id": "60c32dc2-b9da-4c6f-917f-ac391ede55d0",
   "metadata": {},
   "source": [
    "## First part of demo\n",
    "### Create a table"
   ]
  },
  {
   "cell_type": "code",
   "execution_count": 7,
   "id": "37f7ee9e-c880-465a-9d0e-be17def13720",
   "metadata": {},
   "outputs": [
    {
     "name": "stdout",
     "output_type": "stream",
     "text": [
      " * sqlite://\n",
      "Done.\n"
     ]
    },
    {
     "data": {
      "text/plain": [
       "[]"
      ]
     },
     "execution_count": 7,
     "metadata": {},
     "output_type": "execute_result"
    }
   ],
   "source": [
    "%%sql\n",
    "CREATE TABLE Students (\n",
    "  StudentID INT PRIMARY KEY,\n",
    "  fname VARCHAR(100),\n",
    "  lname VARCHAR(100),\n",
    "  age INT\n",
    ");"
   ]
  },
  {
   "cell_type": "markdown",
   "id": "fc6d6efc-7948-422a-bef3-0d98e848603a",
   "metadata": {},
   "source": [
    "Insert data into the table"
   ]
  },
  {
   "cell_type": "code",
   "execution_count": 8,
   "id": "c68ad9e6-c3be-4328-99e9-49921ecbc7d7",
   "metadata": {},
   "outputs": [
    {
     "name": "stdout",
     "output_type": "stream",
     "text": [
      " * sqlite://\n",
      "1 rows affected.\n"
     ]
    },
    {
     "data": {
      "text/plain": [
       "[]"
      ]
     },
     "execution_count": 8,
     "metadata": {},
     "output_type": "execute_result"
    }
   ],
   "source": [
    "%%sql\n",
    "INSERT INTO Students VALUES (1, 'Ana', 'Vizcaya', 100);"
   ]
  },
  {
   "cell_type": "code",
   "execution_count": 9,
   "id": "a5946d7b-e872-4272-9f7f-3da727006544",
   "metadata": {},
   "outputs": [
    {
     "name": "stdout",
     "output_type": "stream",
     "text": [
      " * sqlite://\n",
      "1 rows affected.\n"
     ]
    },
    {
     "data": {
      "text/plain": [
       "[]"
      ]
     },
     "execution_count": 9,
     "metadata": {},
     "output_type": "execute_result"
    }
   ],
   "source": [
    "%%sql\n",
    "INSERT INTO Students VALUES (2, 'Student1', 'Potter', 20);"
   ]
  },
  {
   "cell_type": "code",
   "execution_count": 10,
   "id": "ef4fc913-baed-4bb9-b9f0-56ea114e39c4",
   "metadata": {},
   "outputs": [
    {
     "name": "stdout",
     "output_type": "stream",
     "text": [
      " * sqlite://\n",
      "1 rows affected.\n"
     ]
    },
    {
     "data": {
      "text/plain": [
       "[]"
      ]
     },
     "execution_count": 10,
     "metadata": {},
     "output_type": "execute_result"
    }
   ],
   "source": [
    "%%sql\n",
    "INSERT INTO Students VALUES (3, 'Student2', 'Granger', 21);"
   ]
  },
  {
   "cell_type": "code",
   "execution_count": 11,
   "id": "5eb76d24-791e-441e-b9bb-0537da5e6d23",
   "metadata": {},
   "outputs": [
    {
     "name": "stdout",
     "output_type": "stream",
     "text": [
      " * sqlite://\n",
      "1 rows affected.\n"
     ]
    },
    {
     "data": {
      "text/plain": [
       "[]"
      ]
     },
     "execution_count": 11,
     "metadata": {},
     "output_type": "execute_result"
    }
   ],
   "source": [
    "%%sql\n",
    "INSERT INTO Students VALUES (4, 'Student3', 'Weasley', 19);"
   ]
  },
  {
   "cell_type": "markdown",
   "id": "eda151a9-ae44-484b-bccb-245a1c40cbdb",
   "metadata": {},
   "source": [
    "What is inside the table?"
   ]
  },
  {
   "cell_type": "code",
   "execution_count": 12,
   "id": "4db4d5f1-1ed3-457c-a2a0-0939f96d8129",
   "metadata": {},
   "outputs": [
    {
     "name": "stdout",
     "output_type": "stream",
     "text": [
      " * sqlite://\n",
      "Done.\n"
     ]
    },
    {
     "data": {
      "text/html": [
       "<table>\n",
       "    <thead>\n",
       "        <tr>\n",
       "            <th>StudentID</th>\n",
       "            <th>fname</th>\n",
       "            <th>lname</th>\n",
       "            <th>age</th>\n",
       "        </tr>\n",
       "    </thead>\n",
       "    <tbody>\n",
       "        <tr>\n",
       "            <td>1</td>\n",
       "            <td>Ana</td>\n",
       "            <td>Vizcaya</td>\n",
       "            <td>100</td>\n",
       "        </tr>\n",
       "        <tr>\n",
       "            <td>2</td>\n",
       "            <td>Student1</td>\n",
       "            <td>Potter</td>\n",
       "            <td>20</td>\n",
       "        </tr>\n",
       "        <tr>\n",
       "            <td>3</td>\n",
       "            <td>Student2</td>\n",
       "            <td>Granger</td>\n",
       "            <td>21</td>\n",
       "        </tr>\n",
       "        <tr>\n",
       "            <td>4</td>\n",
       "            <td>Student3</td>\n",
       "            <td>Weasley</td>\n",
       "            <td>19</td>\n",
       "        </tr>\n",
       "    </tbody>\n",
       "</table>"
      ],
      "text/plain": [
       "[(1, 'Ana', 'Vizcaya', 100),\n",
       " (2, 'Student1', 'Potter', 20),\n",
       " (3, 'Student2', 'Granger', 21),\n",
       " (4, 'Student3', 'Weasley', 19)]"
      ]
     },
     "execution_count": 12,
     "metadata": {},
     "output_type": "execute_result"
    }
   ],
   "source": [
    "%%sql\n",
    "SELECT * FROM Students;"
   ]
  },
  {
   "cell_type": "markdown",
   "id": "cf3d52e4-faf1-49fd-a5d7-ad7cb3ff0cf7",
   "metadata": {},
   "source": [
    "Get just a selection of data"
   ]
  },
  {
   "cell_type": "code",
   "execution_count": 13,
   "id": "32f109f3-5976-469d-b4f9-3190a6fb5336",
   "metadata": {},
   "outputs": [
    {
     "name": "stdout",
     "output_type": "stream",
     "text": [
      " * sqlite://\n",
      "Done.\n"
     ]
    },
    {
     "data": {
      "text/html": [
       "<table>\n",
       "    <thead>\n",
       "        <tr>\n",
       "            <th>StudentID</th>\n",
       "            <th>fname</th>\n",
       "            <th>lname</th>\n",
       "            <th>age</th>\n",
       "        </tr>\n",
       "    </thead>\n",
       "    <tbody>\n",
       "        <tr>\n",
       "            <td>2</td>\n",
       "            <td>Student1</td>\n",
       "            <td>Potter</td>\n",
       "            <td>20</td>\n",
       "        </tr>\n",
       "        <tr>\n",
       "            <td>4</td>\n",
       "            <td>Student3</td>\n",
       "            <td>Weasley</td>\n",
       "            <td>19</td>\n",
       "        </tr>\n",
       "    </tbody>\n",
       "</table>"
      ],
      "text/plain": [
       "[(2, 'Student1', 'Potter', 20), (4, 'Student3', 'Weasley', 19)]"
      ]
     },
     "execution_count": 13,
     "metadata": {},
     "output_type": "execute_result"
    }
   ],
   "source": [
    "%%sql\n",
    "SELECT * FROM Students WHERE age < 21;"
   ]
  },
  {
   "cell_type": "markdown",
   "id": "4f42351f-4509-4757-8a63-8f402d779f0a",
   "metadata": {},
   "source": [
    "Update a value in the table "
   ]
  },
  {
   "cell_type": "code",
   "execution_count": 16,
   "id": "eb632855-3925-4831-9a13-279ac4716fa3",
   "metadata": {},
   "outputs": [
    {
     "name": "stdout",
     "output_type": "stream",
     "text": [
      " * sqlite://\n",
      "1 rows affected.\n"
     ]
    },
    {
     "data": {
      "text/plain": [
       "[]"
      ]
     },
     "execution_count": 16,
     "metadata": {},
     "output_type": "execute_result"
    }
   ],
   "source": [
    "%%sql\n",
    "UPDATE Students SET lname = 'Malfoy' WHERE StudentID = 2;"
   ]
  },
  {
   "cell_type": "markdown",
   "id": "09925792-0687-4157-9fbf-35624d0546f3",
   "metadata": {},
   "source": [
    "Did it work? How can you check?\n",
    "\n",
    "Now delete a row"
   ]
  },
  {
   "cell_type": "code",
   "execution_count": 17,
   "id": "7ac2d7e2-66e8-4747-b43f-3db15825569a",
   "metadata": {},
   "outputs": [
    {
     "name": "stdout",
     "output_type": "stream",
     "text": [
      " * sqlite://\n",
      "1 rows affected.\n"
     ]
    },
    {
     "data": {
      "text/plain": [
       "[]"
      ]
     },
     "execution_count": 17,
     "metadata": {},
     "output_type": "execute_result"
    }
   ],
   "source": [
    "%%sql\n",
    "DELETE FROM Students WHERE StudentID = 4;"
   ]
  },
  {
   "cell_type": "markdown",
   "id": "ca773712-4156-4e0d-8dbc-55885121cea0",
   "metadata": {},
   "source": [
    "## Second part of the demo\n",
    "### Create a second table and perform an inner join\n",
    "We will create a table of Enrollments and our goal will be to check to which courses are students enrolled"
   ]
  },
  {
   "cell_type": "code",
   "execution_count": 19,
   "id": "c57a1add-a3c3-4d9e-9a81-28db2d575464",
   "metadata": {},
   "outputs": [
    {
     "name": "stdout",
     "output_type": "stream",
     "text": [
      " * sqlite://\n",
      "Done.\n"
     ]
    },
    {
     "data": {
      "text/plain": [
       "[]"
      ]
     },
     "execution_count": 19,
     "metadata": {},
     "output_type": "execute_result"
    }
   ],
   "source": [
    "%%sql\n",
    "CREATE TABLE Enrollments (\n",
    "  StudentID INT,\n",
    "  CourseID VARCHAR(50),\n",
    "  PRIMARY KEY (StudentID, CourseID),\n",
    "  FOREIGN KEY (StudentID) REFERENCES Students(StudentID)\n",
    ");"
   ]
  },
  {
   "cell_type": "code",
   "execution_count": 21,
   "id": "8cbb347b-1b60-481b-8e58-03d9a6895f5c",
   "metadata": {},
   "outputs": [
    {
     "name": "stdout",
     "output_type": "stream",
     "text": [
      " * sqlite://\n",
      "5 rows affected.\n"
     ]
    },
    {
     "data": {
      "text/plain": [
       "[]"
      ]
     },
     "execution_count": 21,
     "metadata": {},
     "output_type": "execute_result"
    }
   ],
   "source": [
    "%%sql\n",
    "INSERT INTO Enrollments (StudentID, CourseID) VALUES\n",
    "  (1, 'Potions'),\n",
    "  (2, 'Care of Magical Creatures'),\n",
    "  (2, 'Flying'),\n",
    "  (3, 'Transfiguration'),\n",
    "  (4, 'Dark Arts');"
   ]
  },
  {
   "cell_type": "code",
   "execution_count": 23,
   "id": "3ef84e6f-15f0-4ac3-bab3-8f79b6ad17c5",
   "metadata": {},
   "outputs": [
    {
     "name": "stdout",
     "output_type": "stream",
     "text": [
      " * sqlite://\n",
      "Done.\n"
     ]
    },
    {
     "data": {
      "text/html": [
       "<table>\n",
       "    <thead>\n",
       "        <tr>\n",
       "            <th>fname</th>\n",
       "            <th>lname</th>\n",
       "            <th>CourseID</th>\n",
       "        </tr>\n",
       "    </thead>\n",
       "    <tbody>\n",
       "        <tr>\n",
       "            <td>Ana</td>\n",
       "            <td>Vizcaya</td>\n",
       "            <td>Potions</td>\n",
       "        </tr>\n",
       "        <tr>\n",
       "            <td>Student1</td>\n",
       "            <td>Malfoy</td>\n",
       "            <td>Care of Magical Creatures</td>\n",
       "        </tr>\n",
       "        <tr>\n",
       "            <td>Student1</td>\n",
       "            <td>Malfoy</td>\n",
       "            <td>Flying</td>\n",
       "        </tr>\n",
       "        <tr>\n",
       "            <td>Student2</td>\n",
       "            <td>Granger</td>\n",
       "            <td>Transfiguration</td>\n",
       "        </tr>\n",
       "    </tbody>\n",
       "</table>"
      ],
      "text/plain": [
       "[('Ana', 'Vizcaya', 'Potions'),\n",
       " ('Student1', 'Malfoy', 'Care of Magical Creatures'),\n",
       " ('Student1', 'Malfoy', 'Flying'),\n",
       " ('Student2', 'Granger', 'Transfiguration')]"
      ]
     },
     "execution_count": 23,
     "metadata": {},
     "output_type": "execute_result"
    }
   ],
   "source": [
    "%%sql\n",
    "SELECT fname, lname, CourseID\n",
    "FROM Students\n",
    "JOIN Enrollments ON Students.StudentID = Enrollments.StudentID;"
   ]
  },
  {
   "cell_type": "code",
   "execution_count": null,
   "id": "285322ad-1b9b-4359-86a8-255579aca5ee",
   "metadata": {},
   "outputs": [],
   "source": []
  }
 ],
 "metadata": {
  "kernelspec": {
   "display_name": "Python 3 (ipykernel)",
   "language": "python",
   "name": "python3"
  },
  "language_info": {
   "codemirror_mode": {
    "name": "ipython",
    "version": 3
   },
   "file_extension": ".py",
   "mimetype": "text/x-python",
   "name": "python",
   "nbconvert_exporter": "python",
   "pygments_lexer": "ipython3",
   "version": "3.10.16"
  }
 },
 "nbformat": 4,
 "nbformat_minor": 5
}
