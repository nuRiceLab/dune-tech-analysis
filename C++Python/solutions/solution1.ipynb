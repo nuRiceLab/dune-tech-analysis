{
 "cells": [
  {
   "cell_type": "code",
   "execution_count": 1,
   "id": "02c43fb9-82e8-4261-b88a-07b49c1ca87a",
   "metadata": {},
   "outputs": [],
   "source": [
    "import sys"
   ]
  },
  {
   "cell_type": "code",
   "execution_count": 2,
   "id": "584e1e27-694c-4e5d-8f3f-212c219a340a",
   "metadata": {},
   "outputs": [],
   "source": [
    "#Expects only valid roman numerals\n",
    "def roman_to_int(roman):\n",
    "    value_map = {\n",
    "        'M': 1000, 'D': 500, 'C': 100, 'L': 50,\n",
    "        'X': 10, 'V': 5, 'I': 1\n",
    "    }\n",
    "    subtractives = {\n",
    "        ('I', 'V'): 4, ('I', 'X'): 9,\n",
    "        ('X', 'L'): 40, ('X', 'C'): 90,\n",
    "        ('C', 'D'): 400, ('C', 'M'): 900\n",
    "    }\n",
    "\n",
    "    i = 0\n",
    "    number = 0\n",
    "\n",
    "    while i < len(roman):\n",
    "        #Check to see if any of the subtractives are next\n",
    "        if i + 1 < len(roman) and (roman[i], roman[i+1]) in subtractives:\n",
    "            number += subtractives[(roman[i], roman[i+1])]\n",
    "            i += 2\n",
    "\n",
    "        #Check to see if any of the single character numerals are next\n",
    "        elif roman[i] in value_map:\n",
    "            number += value_map[roman[i]]\n",
    "            i += 1\n",
    "\n",
    "        #Verifies if a non-roman numberal is there\n",
    "        else:\n",
    "            print(f\"ERROR: Invalid numeral at index {i}\")\n",
    "            return -1\n",
    "\n",
    "    return number"
   ]
  },
  {
   "cell_type": "code",
   "execution_count": 3,
   "id": "6f67f23b-d55e-453a-9732-63f97173918b",
   "metadata": {},
   "outputs": [
    {
     "name": "stdin",
     "output_type": "stream",
     "text": [
      "Enter Roman Numeral::  IXL\n"
     ]
    },
    {
     "name": "stdout",
     "output_type": "stream",
     "text": [
      "Roman Numeral: IXL\n",
      "Number: 59\n"
     ]
    }
   ],
   "source": [
    "roman_input = input(\"Enter Roman Numeral:: \")\n",
    "print(f\"Roman Numeral: {roman_input}\")\n",
    "result = roman_to_int(roman_input)\n",
    "print(f\"Number: {result}\")"
   ]
  },
  {
   "cell_type": "code",
   "execution_count": null,
   "id": "faea2b17-1c99-42aa-a19a-7a1ea84836d3",
   "metadata": {},
   "outputs": [],
   "source": []
  }
 ],
 "metadata": {
  "kernelspec": {
   "display_name": "Python 3 (ipykernel)",
   "language": "python",
   "name": "python3"
  },
  "language_info": {
   "codemirror_mode": {
    "name": "ipython",
    "version": 3
   },
   "file_extension": ".py",
   "mimetype": "text/x-python",
   "name": "python",
   "nbconvert_exporter": "python",
   "pygments_lexer": "ipython3",
   "version": "3.10.16"
  }
 },
 "nbformat": 4,
 "nbformat_minor": 5
}
