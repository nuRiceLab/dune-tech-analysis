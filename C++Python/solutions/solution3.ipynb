{
 "cells": [
  {
   "cell_type": "code",
   "execution_count": 1,
   "id": "53e98a2c-7498-4e13-b741-1c1cfbb83235",
   "metadata": {},
   "outputs": [],
   "source": [
    "def three_sum(values):\n",
    "    #Sort the values first\n",
    "    values.sort()\n",
    "    n = len(values)\n",
    "    triplets = []\n",
    "\n",
    "    for i in range(n):\n",
    "        # Avoid duplicate first elements\n",
    "        if i > 0 and values[i] == values[i - 1]:\n",
    "            continue\n",
    "\n",
    "        #Set j and k\n",
    "        j = i + 1\n",
    "        k = n - 1\n",
    "        \n",
    "        while j < k:\n",
    "            #Check if the total is 0\n",
    "            total = values[i] + values[j] + values[k]\n",
    "            if total == 0:\n",
    "                triplet = [values[i], values[j], values[k]]\n",
    "                triplets.append(triplet)\n",
    "                j += 1\n",
    "                k -= 1\n",
    "                # Skip duplicates for j and k\n",
    "                while j < k and values[j] == values[j - 1]:\n",
    "                    j += 1\n",
    "                while j < k and values[k] == values[k + 1]:\n",
    "                    k -= 1\n",
    "            elif total < 0:\n",
    "                #Try to increase the sum\n",
    "                j += 1\n",
    "            else:\n",
    "                #Try to decrese the sum\n",
    "                k -= 1\n",
    "    return triplets"
   ]
  },
  {
   "cell_type": "code",
   "execution_count": 2,
   "id": "e4ae45ad-e0d8-4eef-b4b2-6313c0f17078",
   "metadata": {},
   "outputs": [
    {
     "name": "stdin",
     "output_type": "stream",
     "text": [
      "Enter number list::  -1 0 1 -2 1 1 \n"
     ]
    },
    {
     "name": "stdout",
     "output_type": "stream",
     "text": [
      "Given Values:: [-1, 0, 1, -2, 1, 1]\n",
      "Found 3Sums::\n",
      "[ -2 1 1 ]\n",
      "[ -1 0 1 ]\n"
     ]
    }
   ],
   "source": [
    "numbers = list(map(int, input(\"Enter number list:: \").split()))\n",
    "print(\"Given Values::\", numbers)\n",
    "result = three_sum(numbers)\n",
    "print(\"Found 3Sums::\")\n",
    "for triplet in result:\n",
    "    print(\"[\", \" \".join(map(str, triplet)), \"]\")"
   ]
  }
 ],
 "metadata": {
  "kernelspec": {
   "display_name": "Python 3 (ipykernel)",
   "language": "python",
   "name": "python3"
  },
  "language_info": {
   "codemirror_mode": {
    "name": "ipython",
    "version": 3
   },
   "file_extension": ".py",
   "mimetype": "text/x-python",
   "name": "python",
   "nbconvert_exporter": "python",
   "pygments_lexer": "ipython3",
   "version": "3.10.16"
  }
 },
 "nbformat": 4,
 "nbformat_minor": 5
}
