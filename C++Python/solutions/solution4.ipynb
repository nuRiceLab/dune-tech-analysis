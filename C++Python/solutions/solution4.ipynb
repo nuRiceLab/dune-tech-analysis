{
 "cells": [
  {
   "cell_type": "code",
   "execution_count": 1,
   "id": "fe98b99a-3db6-4b2e-b66a-4b5157cd0fe6",
   "metadata": {},
   "outputs": [],
   "source": [
    "#Solution from LeetCode - Stack Approach\n",
    "#Terms, defined by (), are placed on the stack, a FILO data structure to calculate the expression\n",
    "#Sign is determined by int, everytime a minus sign is seen, the sign changes itself by multiplying\n",
    "#itself by -1.\"\n",
    "def calculate(expression):\n",
    "    stack = []\n",
    "    sum_ = 0\n",
    "    sign = 1\n",
    "    i = 0\n",
    "\n",
    "    while i < len(expression):\n",
    "        char = expression[i]\n",
    "\n",
    "        #Convert sequence of numbers into an integer\n",
    "        if char.isdigit():\n",
    "            num = 0\n",
    "            while i < len(expression) and expression[i].isdigit():\n",
    "                num = num * 10 + int(expression[i])\n",
    "                i += 1\n",
    "            sum_ += sign * num\n",
    "            sign = 1\n",
    "            continue  # skip the increment below since we already moved `i` forward\n",
    "        \n",
    "        #Create a term, save the sum and sign\n",
    "        elif char == '(':\n",
    "            stack.append((sum_, sign))\n",
    "            sum_ = 0\n",
    "            sign = 1\n",
    "        \n",
    "        #End term, and do calculation with previous term\n",
    "        elif char == ')':\n",
    "            prev_sum, prev_sign = stack.pop()\n",
    "            sum_ = prev_sum + prev_sign * sum_\n",
    "        \n",
    "        #Flip the sign from the original\n",
    "        elif char == '-':\n",
    "            sign *= -1\n",
    "            \n",
    "        # skip whitespace and unhandled characters silently\n",
    "        i += 1\n",
    "\n",
    "    return sum_"
   ]
  },
  {
   "cell_type": "code",
   "execution_count": 2,
   "id": "e80cb755-2f06-4c6f-9291-419e00d01f45",
   "metadata": {},
   "outputs": [
    {
     "name": "stdin",
     "output_type": "stream",
     "text": [
      "Enter an expression:  1 + (2+ 3 -4) - 5\n"
     ]
    },
    {
     "name": "stdout",
     "output_type": "stream",
     "text": [
      "Expression: 1 + (2+ 3 -4) - 5\n",
      "Answer: -3\n"
     ]
    }
   ],
   "source": [
    "expr = input(\"Enter an expression: \")\n",
    "print(\"Expression:\", expr)\n",
    "answer = calculate(expr)\n",
    "print(\"Answer:\", answer)"
   ]
  }
 ],
 "metadata": {
  "kernelspec": {
   "display_name": "Python 3 (ipykernel)",
   "language": "python",
   "name": "python3"
  },
  "language_info": {
   "codemirror_mode": {
    "name": "ipython",
    "version": 3
   },
   "file_extension": ".py",
   "mimetype": "text/x-python",
   "name": "python",
   "nbconvert_exporter": "python",
   "pygments_lexer": "ipython3",
   "version": "3.10.16"
  }
 },
 "nbformat": 4,
 "nbformat_minor": 5
}
