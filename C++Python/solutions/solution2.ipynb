{
 "cells": [
  {
   "cell_type": "code",
   "execution_count": 1,
   "id": "19843aa1-67b2-4470-b61f-8f9fa3beb039",
   "metadata": {},
   "outputs": [],
   "source": [
    "#Helper function of quick sort function. Decides on a pivot. \n",
    "#If arr[j] is less than pivot, arr[i] and arr[j].\n",
    "def partition(arr, low, high):\n",
    "    pivot = arr[high]\n",
    "    i = low - 1\n",
    "    for j in range(low, high):\n",
    "        if arr[j] < pivot:\n",
    "            i += 1\n",
    "            arr[i], arr[j] = arr[j], arr[i]\n",
    "    arr[i + 1], arr[high] = arr[high], arr[i + 1]\n",
    "    return i + 1"
   ]
  },
  {
   "cell_type": "code",
   "execution_count": 2,
   "id": "c8ea3a51-14a3-47fe-8ed0-8f47a41c6fb7",
   "metadata": {},
   "outputs": [],
   "source": [
    "#Quick sort algorithm is used for this solution.\n",
    "def quick_sort_colors(arr, low, high):\n",
    "    if low < high:\n",
    "        part = partition(arr, low, high)\n",
    "        quick_sort_colors(arr, low, part - 1)\n",
    "        quick_sort_colors(arr, part + 1, high)"
   ]
  },
  {
   "cell_type": "code",
   "execution_count": 3,
   "id": "e4172614-51f6-4bcb-915e-87307227f1c5",
   "metadata": {},
   "outputs": [],
   "source": [
    "def sort_colors(colors):\n",
    "    quick_sort_colors(colors, 0, len(colors) - 1)"
   ]
  },
  {
   "cell_type": "code",
   "execution_count": 4,
   "id": "25b4edc2-9e5b-4756-8e51-8d66caf11821",
   "metadata": {},
   "outputs": [],
   "source": [
    "#Helper function to print colors to their string equivalents\n",
    "def print_colors(colors):\n",
    "    color_map = {RED: \"RED(0)\", WHITE: \"WHITE(1)\", BLUE: \"BLUE(2)\"}\n",
    "    for c in colors:\n",
    "        print(color_map.get(c, \"UNKNOWN_COLOR(\" + str(c) + \")\"), end=\" \")\n",
    "    print()"
   ]
  },
  {
   "cell_type": "code",
   "execution_count": 5,
   "id": "632c7568-b8d7-44ad-b144-5d90d4f2cb19",
   "metadata": {},
   "outputs": [],
   "source": [
    "RED = 0\n",
    "WHITE = 1\n",
    "BLUE = 2"
   ]
  },
  {
   "cell_type": "code",
   "execution_count": 6,
   "id": "c93a328c-bef7-4f27-a86f-3ead930717c4",
   "metadata": {},
   "outputs": [
    {
     "name": "stdin",
     "output_type": "stream",
     "text": [
      "Enter number list::  3 5 1 3 8 0 2 2 1 0 0 9\n"
     ]
    },
    {
     "name": "stdout",
     "output_type": "stream",
     "text": [
      "Before ordering:: UNKNOWN_COLOR(3) UNKNOWN_COLOR(5) WHITE(1) UNKNOWN_COLOR(3) UNKNOWN_COLOR(8) RED(0) BLUE(2) BLUE(2) WHITE(1) RED(0) RED(0) UNKNOWN_COLOR(9) \n",
      "After ordering:: RED(0) RED(0) RED(0) WHITE(1) WHITE(1) BLUE(2) BLUE(2) UNKNOWN_COLOR(3) UNKNOWN_COLOR(3) UNKNOWN_COLOR(5) UNKNOWN_COLOR(8) UNKNOWN_COLOR(9) \n"
     ]
    }
   ],
   "source": [
    "colors = list(map(int, input(\"Enter number list:: \").split()))\n",
    "    \n",
    "print(\"Before ordering::\", end=\" \")\n",
    "print_colors(colors)\n",
    "\n",
    "sort_colors(colors)\n",
    "\n",
    "print(\"After ordering::\", end=\" \")\n",
    "print_colors(colors)"
   ]
  }
 ],
 "metadata": {
  "kernelspec": {
   "display_name": "Python 3 (ipykernel)",
   "language": "python",
   "name": "python3"
  },
  "language_info": {
   "codemirror_mode": {
    "name": "ipython",
    "version": 3
   },
   "file_extension": ".py",
   "mimetype": "text/x-python",
   "name": "python",
   "nbconvert_exporter": "python",
   "pygments_lexer": "ipython3",
   "version": "3.10.16"
  }
 },
 "nbformat": 4,
 "nbformat_minor": 5
}
